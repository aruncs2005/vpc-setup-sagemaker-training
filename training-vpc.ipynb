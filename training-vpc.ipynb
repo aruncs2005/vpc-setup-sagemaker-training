{
 "cells": [
  {
   "attachments": {},
   "cell_type": "markdown",
   "id": "d9275057",
   "metadata": {},
   "source": [
    "## SageMaker training with your own VPC/subnet"
   ]
  },
  {
   "attachments": {},
   "cell_type": "markdown",
   "id": "4ed23fa2",
   "metadata": {},
   "source": [
    "This sample shows how to:\n",
    "\n",
    "- Setup an VPC to run training job.\n",
    "- Run a SageMaker Training job using the VPC/Subnet and data from s3.\n",
    "- Save artifacts into s3 which should use the vpc endpoint created.\n",
    "- Tear down the infrastructure\n",
    "\n",
    "\n",
    "**Please make sure the CIDR block in setup/cfn_sm_vpc.yaml does not conflict with your existing VPC. You can also change FSx storage (currently set at 1.2 TB) depending on your data sets**"
   ]
  },
  {
   "cell_type": "code",
   "execution_count": null,
   "id": "d5ee215a",
   "metadata": {},
   "outputs": [],
   "source": [
    "# Imports\n",
    "import os\n",
    "import time\n",
    "import boto3\n",
    "from sagemaker import get_execution_role\n",
    "from sagemaker.pytorch import PyTorch\n",
    "\n",
    "\n",
    "# Inputs\n",
    "region = \"us-west-2\"  # update this if your region is different\n",
    "region_az = \"us-west-2c\"  # customize this as needed.\n",
    "cfn_stack_name = 'vpc-training'  # cloudformation stack name\n",
    "\n",
    "# Clients\n",
    "cfn_client = boto3.client(\"cloudformation\", region_name=region)\n"
   ]
  },
  {
   "cell_type": "code",
   "execution_count": null,
   "id": "c9a6674a",
   "metadata": {},
   "outputs": [],
   "source": [
    "# Setup infrastructure using CloudFormation\n",
    "with open(\"cfn_sm_vpc.yaml\", \"r\") as f:\n",
    "    template_body = f.read()\n",
    "    \n",
    "create_stack_response = cfn_client.create_stack(\n",
    "    StackName=cfn_stack_name,\n",
    "    TemplateBody=template_body,\n",
    "    Parameters=[\n",
    "        {\n",
    "            'ParameterKey': 'AZ',\n",
    "            'ParameterValue': region_az\n",
    "        }\n",
    "\n",
    "    ]\n",
    ")\n",
    "\n",
    "create_stack_response"
   ]
  },
  {
   "cell_type": "code",
   "execution_count": null,
   "id": "8fd5800b",
   "metadata": {
    "scrolled": true
   },
   "outputs": [],
   "source": [
    "# Wait for stack to be created, it takes ~10 minutes to complete.\n",
    "stack_id = create_stack_response['StackId']\n",
    "\n",
    "while True:\n",
    "    response = cfn_client.describe_stacks(\n",
    "        StackName=stack_id\n",
    "    )\n",
    "    status = response['Stacks'][0]['StackStatus']\n",
    "    if status== \"CREATE_IN_PROGRESS\":\n",
    "        print(\"Create in progress. Waiting..\")\n",
    "        time.sleep(30)\n",
    "    elif status==\"CREATE_COMPLETE\":\n",
    "        print(\"Stack created!\")\n",
    "        break\n",
    "    else:\n",
    "        print(\"Error creating stack - check the CFN console\")\n",
    "        break"
   ]
  },
  {
   "cell_type": "code",
   "execution_count": null,
   "id": "79f7afaf",
   "metadata": {},
   "outputs": [],
   "source": [
    "# Get stack outputs\n",
    "describe_response = cfn_client.describe_stacks(\n",
    "    StackName=stack_id\n",
    ")\n",
    "\n",
    "outputs = describe_response['Stacks'][0]['Outputs']\n",
    "\n",
    "for output in outputs:\n",
    "    if output['OutputKey'] == 'sg':\n",
    "        sec_group = output['OutputValue']\n",
    "    elif output['OutputKey'] == 'privatesubnet':\n",
    "        private_subnet_id = output['OutputValue']\n",
    "\n",
    "\n",
    "print(\"Security Group ID:\", sec_group)\n",
    "print(\"Private Subnet ID:\", private_subnet_id)\n"
   ]
  },
  {
   "attachments": {},
   "cell_type": "markdown",
   "id": "5e592622",
   "metadata": {},
   "source": [
    "Now, we create a SageMaker training job that uses the vpc/subnet to launch the cluster."
   ]
  },
  {
   "cell_type": "code",
   "execution_count": null,
   "id": "98d3c4e2",
   "metadata": {},
   "outputs": [],
   "source": [
    "\n",
    "# for ease, so that you can use fsx for data and training artifacts\n",
    "SM_TRAIN_DIR = \"/opt/ml/input/data/train\"  # path where fsx is mounted in the training container\n",
    "hyperparameters = {}\n",
    "hyperparameters[\"model-dir\"] = f\"/opt/ml/model\"\n",
    "hyperparameters[\"training-dir\"] = f\"{SM_TRAIN_DIR}\""
   ]
  },
  {
   "cell_type": "code",
   "execution_count": null,
   "id": "861f0e99",
   "metadata": {
    "scrolled": true
   },
   "outputs": [],
   "source": [
    "# setup estimator and invoke\n",
    "instance_type = \"ml.m5.xlarge\"\n",
    "instance_count = 1\n",
    "base_job_name = f'sagemaker-vpc-training-sample'\n",
    "\n",
    "estimator = PyTorch(\n",
    "    entry_point=\"train.py\",\n",
    "    source_dir=os.getcwd(),\n",
    "    instance_type=instance_type,\n",
    "    role=get_execution_role(),\n",
    "    instance_count=instance_count,\n",
    "    framework_version=\"1.13.1\",\n",
    "    py_version=\"py39\",\n",
    "    hyperparameters=hyperparameters,\n",
    "    base_job_name=base_job_name,\n",
    "    subnets = [private_subnet_id],\n",
    "    security_group_ids=[sec_group],\n",
    "    max_retry_attempts=30)\n",
    "\n",
    "estimator.fit({\"train\":\"s3://path\"})\n"
   ]
  },
  {
   "cell_type": "markdown",
   "id": "3050cdd4",
   "metadata": {},
   "source": [
    "### Clean up resources"
   ]
  },
  {
   "cell_type": "markdown",
   "id": "099ced56",
   "metadata": {},
   "source": [
    "You can tear down the CloudFormation stack to delete the VPC and associated resources, and the FSx file system to avoid incurring costs."
   ]
  },
  {
   "cell_type": "code",
   "execution_count": null,
   "id": "963a3cb1",
   "metadata": {},
   "outputs": [],
   "source": [
    "# Delete the stack\n",
    "\n",
    "delete_response = cfn_client.delete_stack(\n",
    "    StackName=stack_id\n",
    ")\n",
    "\n",
    "delete_response"
   ]
  },
  {
   "cell_type": "code",
   "execution_count": null,
   "id": "273547d5",
   "metadata": {},
   "outputs": [],
   "source": []
  }
 ],
 "metadata": {
  "kernelspec": {
   "display_name": "arunpy39",
   "language": "python",
   "name": "python3"
  },
  "language_info": {
   "codemirror_mode": {
    "name": "ipython",
    "version": 3
   },
   "file_extension": ".py",
   "mimetype": "text/x-python",
   "name": "python",
   "nbconvert_exporter": "python",
   "pygments_lexer": "ipython3",
   "version": "3.9.16"
  }
 },
 "nbformat": 4,
 "nbformat_minor": 5
}
